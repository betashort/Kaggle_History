{
 "cells": [
  {
   "cell_type": "code",
   "execution_count": 31,
   "metadata": {},
   "outputs": [],
   "source": [
    "import os\n",
    "import gc\n",
    "import numpy as np\n",
    "import pandas as pd"
   ]
  },
  {
   "cell_type": "code",
   "execution_count": 39,
   "metadata": {},
   "outputs": [],
   "source": [
    "train = pd.read_csv(\"../input/train.csv\")\n",
    "test = pd.read_csv(\"../input/test.csv\")\n",
    "gender_submission = pd.read_csv(\"../input/submission.csv\")"
   ]
  },
  {
   "cell_type": "code",
   "execution_count": 40,
   "metadata": {},
   "outputs": [],
   "source": [
    "data = pd.concat([train, test], sort=False)"
   ]
  },
  {
   "cell_type": "code",
   "execution_count": 41,
   "metadata": {},
   "outputs": [],
   "source": [
    "data['Sex'].replace(['male','female'], [0, 1], inplace=True)\n",
    "#data['Embarked'].fillna(('S'), inplace=True)\n",
    "data['Embarked'] = data['Embarked'].map( {'S': 0, 'C': 1, 'Q': 2} )\n",
    "#data['Fare'].fillna(np.mean(data['Fare']), inplace=True)\n",
    "\n",
    "#age_avg = data['Age'].mean()\n",
    "#age_std = data['Age'].std()\n",
    "\n",
    "#data['Age'].fillna(np.random.randint(age_avg - age_std, age_avg + age_std), inplace=True)\n",
    "\n",
    "delete_columns = ['Name', 'PassengerId', 'SibSp', 'Parch', 'Ticket', 'Cabin']\n",
    "data.drop(delete_columns, axis=1, inplace=True)\n",
    "\n",
    "train = data[:len(train)]\n",
    "test = data[len(train):]\n",
    "\n",
    "y = train['Survived']\n",
    "X = train.drop('Survived', axis = 1)\n",
    "test = test.drop('Survived', axis = 1)"
   ]
  },
  {
   "cell_type": "code",
   "execution_count": 42,
   "metadata": {},
   "outputs": [],
   "source": [
    "import lightgbm as lgb\n",
    "from sklearn.model_selection import train_test_split, KFold\n",
    "from sklearn.metrics import accuracy_score, roc_auc_score\n",
    "import optuna"
   ]
  },
  {
   "cell_type": "code",
   "execution_count": 43,
   "metadata": {},
   "outputs": [
    {
     "name": "stdout",
     "output_type": "stream",
     "text": [
      "Training until validation scores don't improve for 100 rounds.\n",
      "Early stopping, best iteration is:\n",
      "[1]\ttraining's auc: 0.5\tvalid_1's auc: 0.5\n",
      "0.5921787709497207\n"
     ]
    },
    {
     "name": "stderr",
     "output_type": "stream",
     "text": [
      "[I 2020-02-13 03:46:05,003] Finished trial#0 resulted in value: 0.5921787709497207. Current best value is 0.5921787709497207 with parameters: {'drop_rate': 0.9754676518035469, 'feature_fraction': 0.1004995968580088, 'learning_rate': 0.43803383148043296, 'subsample': 0.8948938528455712, 'num_leaves': 824, 'verbosity': 0, 'num_boost_round': 9726, 'min_data_in_leaf': 53645, 'min_child_samples': 232, 'min_child_weight': 462}.\n"
     ]
    },
    {
     "name": "stdout",
     "output_type": "stream",
     "text": [
      "Training until validation scores don't improve for 100 rounds.\n",
      "Early stopping, best iteration is:\n",
      "[1]\ttraining's auc: 0.5\tvalid_1's auc: 0.5\n",
      "0.5921787709497207\n"
     ]
    },
    {
     "name": "stderr",
     "output_type": "stream",
     "text": [
      "[I 2020-02-13 03:46:05,127] Finished trial#1 resulted in value: 0.5921787709497207. Current best value is 0.5921787709497207 with parameters: {'drop_rate': 0.9754676518035469, 'feature_fraction': 0.1004995968580088, 'learning_rate': 0.43803383148043296, 'subsample': 0.8948938528455712, 'num_leaves': 824, 'verbosity': 0, 'num_boost_round': 9726, 'min_data_in_leaf': 53645, 'min_child_samples': 232, 'min_child_weight': 462}.\n"
     ]
    },
    {
     "name": "stdout",
     "output_type": "stream",
     "text": [
      "Training until validation scores don't improve for 100 rounds.\n",
      "Early stopping, best iteration is:\n",
      "[1]\ttraining's auc: 0.5\tvalid_1's auc: 0.5\n",
      "0.5921787709497207\n"
     ]
    },
    {
     "name": "stderr",
     "output_type": "stream",
     "text": [
      "[I 2020-02-13 03:46:05,247] Finished trial#2 resulted in value: 0.5921787709497207. Current best value is 0.5921787709497207 with parameters: {'drop_rate': 0.9754676518035469, 'feature_fraction': 0.1004995968580088, 'learning_rate': 0.43803383148043296, 'subsample': 0.8948938528455712, 'num_leaves': 824, 'verbosity': 0, 'num_boost_round': 9726, 'min_data_in_leaf': 53645, 'min_child_samples': 232, 'min_child_weight': 462}.\n"
     ]
    },
    {
     "name": "stdout",
     "output_type": "stream",
     "text": [
      "Training until validation scores don't improve for 100 rounds.\n",
      "Early stopping, best iteration is:\n",
      "[1]\ttraining's auc: 0.5\tvalid_1's auc: 0.5\n",
      "0.5921787709497207\n"
     ]
    },
    {
     "name": "stderr",
     "output_type": "stream",
     "text": [
      "[I 2020-02-13 03:46:05,363] Finished trial#3 resulted in value: 0.5921787709497207. Current best value is 0.5921787709497207 with parameters: {'drop_rate': 0.9754676518035469, 'feature_fraction': 0.1004995968580088, 'learning_rate': 0.43803383148043296, 'subsample': 0.8948938528455712, 'num_leaves': 824, 'verbosity': 0, 'num_boost_round': 9726, 'min_data_in_leaf': 53645, 'min_child_samples': 232, 'min_child_weight': 462}.\n"
     ]
    },
    {
     "name": "stdout",
     "output_type": "stream",
     "text": [
      "Training until validation scores don't improve for 100 rounds.\n",
      "Early stopping, best iteration is:\n",
      "[1]\ttraining's auc: 0.5\tvalid_1's auc: 0.5\n",
      "0.5921787709497207\n"
     ]
    },
    {
     "name": "stderr",
     "output_type": "stream",
     "text": [
      "[I 2020-02-13 03:46:05,476] Finished trial#4 resulted in value: 0.5921787709497207. Current best value is 0.5921787709497207 with parameters: {'drop_rate': 0.9754676518035469, 'feature_fraction': 0.1004995968580088, 'learning_rate': 0.43803383148043296, 'subsample': 0.8948938528455712, 'num_leaves': 824, 'verbosity': 0, 'num_boost_round': 9726, 'min_data_in_leaf': 53645, 'min_child_samples': 232, 'min_child_weight': 462}.\n"
     ]
    },
    {
     "name": "stdout",
     "output_type": "stream",
     "text": [
      "Training until validation scores don't improve for 100 rounds.\n",
      "Early stopping, best iteration is:\n",
      "[1]\ttraining's auc: 0.5\tvalid_1's auc: 0.5\n",
      "0.5921787709497207\n"
     ]
    },
    {
     "name": "stderr",
     "output_type": "stream",
     "text": [
      "[I 2020-02-13 03:46:05,596] Finished trial#5 resulted in value: 0.5921787709497207. Current best value is 0.5921787709497207 with parameters: {'drop_rate': 0.9754676518035469, 'feature_fraction': 0.1004995968580088, 'learning_rate': 0.43803383148043296, 'subsample': 0.8948938528455712, 'num_leaves': 824, 'verbosity': 0, 'num_boost_round': 9726, 'min_data_in_leaf': 53645, 'min_child_samples': 232, 'min_child_weight': 462}.\n"
     ]
    },
    {
     "name": "stdout",
     "output_type": "stream",
     "text": [
      "Training until validation scores don't improve for 100 rounds.\n",
      "Early stopping, best iteration is:\n",
      "[1]\ttraining's auc: 0.5\tvalid_1's auc: 0.5\n",
      "0.5921787709497207\n"
     ]
    },
    {
     "name": "stderr",
     "output_type": "stream",
     "text": [
      "[I 2020-02-13 03:46:05,718] Finished trial#6 resulted in value: 0.5921787709497207. Current best value is 0.5921787709497207 with parameters: {'drop_rate': 0.9754676518035469, 'feature_fraction': 0.1004995968580088, 'learning_rate': 0.43803383148043296, 'subsample': 0.8948938528455712, 'num_leaves': 824, 'verbosity': 0, 'num_boost_round': 9726, 'min_data_in_leaf': 53645, 'min_child_samples': 232, 'min_child_weight': 462}.\n"
     ]
    },
    {
     "name": "stdout",
     "output_type": "stream",
     "text": [
      "Training until validation scores don't improve for 100 rounds.\n",
      "Early stopping, best iteration is:\n",
      "[1]\ttraining's auc: 0.5\tvalid_1's auc: 0.5\n",
      "0.5921787709497207\n"
     ]
    },
    {
     "name": "stderr",
     "output_type": "stream",
     "text": [
      "[I 2020-02-13 03:46:05,828] Finished trial#7 resulted in value: 0.5921787709497207. Current best value is 0.5921787709497207 with parameters: {'drop_rate': 0.9754676518035469, 'feature_fraction': 0.1004995968580088, 'learning_rate': 0.43803383148043296, 'subsample': 0.8948938528455712, 'num_leaves': 824, 'verbosity': 0, 'num_boost_round': 9726, 'min_data_in_leaf': 53645, 'min_child_samples': 232, 'min_child_weight': 462}.\n"
     ]
    },
    {
     "name": "stdout",
     "output_type": "stream",
     "text": [
      "Training until validation scores don't improve for 100 rounds.\n",
      "Early stopping, best iteration is:\n",
      "[1]\ttraining's auc: 0.5\tvalid_1's auc: 0.5\n",
      "0.5921787709497207\n"
     ]
    },
    {
     "name": "stderr",
     "output_type": "stream",
     "text": [
      "[I 2020-02-13 03:46:05,936] Finished trial#8 resulted in value: 0.5921787709497207. Current best value is 0.5921787709497207 with parameters: {'drop_rate': 0.9754676518035469, 'feature_fraction': 0.1004995968580088, 'learning_rate': 0.43803383148043296, 'subsample': 0.8948938528455712, 'num_leaves': 824, 'verbosity': 0, 'num_boost_round': 9726, 'min_data_in_leaf': 53645, 'min_child_samples': 232, 'min_child_weight': 462}.\n"
     ]
    },
    {
     "name": "stdout",
     "output_type": "stream",
     "text": [
      "Training until validation scores don't improve for 100 rounds.\n",
      "Early stopping, best iteration is:\n",
      "[1]\ttraining's auc: 0.5\tvalid_1's auc: 0.5\n",
      "0.5921787709497207\n"
     ]
    },
    {
     "name": "stderr",
     "output_type": "stream",
     "text": [
      "[I 2020-02-13 03:46:06,048] Finished trial#9 resulted in value: 0.5921787709497207. Current best value is 0.5921787709497207 with parameters: {'drop_rate': 0.9754676518035469, 'feature_fraction': 0.1004995968580088, 'learning_rate': 0.43803383148043296, 'subsample': 0.8948938528455712, 'num_leaves': 824, 'verbosity': 0, 'num_boost_round': 9726, 'min_data_in_leaf': 53645, 'min_child_samples': 232, 'min_child_weight': 462}.\n"
     ]
    },
    {
     "name": "stdout",
     "output_type": "stream",
     "text": [
      "Training until validation scores don't improve for 100 rounds.\n",
      "Early stopping, best iteration is:\n",
      "[1]\ttraining's auc: 0.5\tvalid_1's auc: 0.5\n",
      "0.5921787709497207\n"
     ]
    },
    {
     "name": "stderr",
     "output_type": "stream",
     "text": [
      "[I 2020-02-13 03:46:06,193] Finished trial#10 resulted in value: 0.5921787709497207. Current best value is 0.5921787709497207 with parameters: {'drop_rate': 0.9754676518035469, 'feature_fraction': 0.1004995968580088, 'learning_rate': 0.43803383148043296, 'subsample': 0.8948938528455712, 'num_leaves': 824, 'verbosity': 0, 'num_boost_round': 9726, 'min_data_in_leaf': 53645, 'min_child_samples': 232, 'min_child_weight': 462}.\n"
     ]
    },
    {
     "name": "stdout",
     "output_type": "stream",
     "text": [
      "Training until validation scores don't improve for 100 rounds.\n",
      "Early stopping, best iteration is:\n",
      "[1]\ttraining's auc: 0.5\tvalid_1's auc: 0.5\n",
      "0.5921787709497207\n"
     ]
    },
    {
     "name": "stderr",
     "output_type": "stream",
     "text": [
      "[I 2020-02-13 03:46:06,341] Finished trial#11 resulted in value: 0.5921787709497207. Current best value is 0.5921787709497207 with parameters: {'drop_rate': 0.9754676518035469, 'feature_fraction': 0.1004995968580088, 'learning_rate': 0.43803383148043296, 'subsample': 0.8948938528455712, 'num_leaves': 824, 'verbosity': 0, 'num_boost_round': 9726, 'min_data_in_leaf': 53645, 'min_child_samples': 232, 'min_child_weight': 462}.\n"
     ]
    },
    {
     "name": "stdout",
     "output_type": "stream",
     "text": [
      "Training until validation scores don't improve for 100 rounds.\n",
      "Early stopping, best iteration is:\n",
      "[1]\ttraining's auc: 0.5\tvalid_1's auc: 0.5\n",
      "0.5921787709497207\n"
     ]
    },
    {
     "name": "stderr",
     "output_type": "stream",
     "text": [
      "[I 2020-02-13 03:46:06,476] Finished trial#12 resulted in value: 0.5921787709497207. Current best value is 0.5921787709497207 with parameters: {'drop_rate': 0.9754676518035469, 'feature_fraction': 0.1004995968580088, 'learning_rate': 0.43803383148043296, 'subsample': 0.8948938528455712, 'num_leaves': 824, 'verbosity': 0, 'num_boost_round': 9726, 'min_data_in_leaf': 53645, 'min_child_samples': 232, 'min_child_weight': 462}.\n"
     ]
    },
    {
     "name": "stdout",
     "output_type": "stream",
     "text": [
      "Training until validation scores don't improve for 100 rounds.\n",
      "Early stopping, best iteration is:\n",
      "[1]\ttraining's auc: 0.5\tvalid_1's auc: 0.5\n",
      "0.5921787709497207\n"
     ]
    },
    {
     "name": "stderr",
     "output_type": "stream",
     "text": [
      "[I 2020-02-13 03:46:06,608] Finished trial#13 resulted in value: 0.5921787709497207. Current best value is 0.5921787709497207 with parameters: {'drop_rate': 0.9754676518035469, 'feature_fraction': 0.1004995968580088, 'learning_rate': 0.43803383148043296, 'subsample': 0.8948938528455712, 'num_leaves': 824, 'verbosity': 0, 'num_boost_round': 9726, 'min_data_in_leaf': 53645, 'min_child_samples': 232, 'min_child_weight': 462}.\n"
     ]
    },
    {
     "name": "stdout",
     "output_type": "stream",
     "text": [
      "Training until validation scores don't improve for 100 rounds.\n",
      "Early stopping, best iteration is:\n",
      "[1]\ttraining's auc: 0.5\tvalid_1's auc: 0.5\n",
      "0.5921787709497207\n"
     ]
    },
    {
     "name": "stderr",
     "output_type": "stream",
     "text": [
      "[I 2020-02-13 03:46:06,743] Finished trial#14 resulted in value: 0.5921787709497207. Current best value is 0.5921787709497207 with parameters: {'drop_rate': 0.9754676518035469, 'feature_fraction': 0.1004995968580088, 'learning_rate': 0.43803383148043296, 'subsample': 0.8948938528455712, 'num_leaves': 824, 'verbosity': 0, 'num_boost_round': 9726, 'min_data_in_leaf': 53645, 'min_child_samples': 232, 'min_child_weight': 462}.\n"
     ]
    },
    {
     "name": "stdout",
     "output_type": "stream",
     "text": [
      "Training until validation scores don't improve for 100 rounds.\n",
      "Early stopping, best iteration is:\n",
      "[1]\ttraining's auc: 0.5\tvalid_1's auc: 0.5\n",
      "0.5921787709497207\n"
     ]
    },
    {
     "name": "stderr",
     "output_type": "stream",
     "text": [
      "[I 2020-02-13 03:46:06,899] Finished trial#15 resulted in value: 0.5921787709497207. Current best value is 0.5921787709497207 with parameters: {'drop_rate': 0.9754676518035469, 'feature_fraction': 0.1004995968580088, 'learning_rate': 0.43803383148043296, 'subsample': 0.8948938528455712, 'num_leaves': 824, 'verbosity': 0, 'num_boost_round': 9726, 'min_data_in_leaf': 53645, 'min_child_samples': 232, 'min_child_weight': 462}.\n"
     ]
    },
    {
     "name": "stdout",
     "output_type": "stream",
     "text": [
      "Training until validation scores don't improve for 100 rounds.\n",
      "Early stopping, best iteration is:\n",
      "[1]\ttraining's auc: 0.5\tvalid_1's auc: 0.5\n",
      "0.5921787709497207\n"
     ]
    },
    {
     "name": "stderr",
     "output_type": "stream",
     "text": [
      "[I 2020-02-13 03:46:07,036] Finished trial#16 resulted in value: 0.5921787709497207. Current best value is 0.5921787709497207 with parameters: {'drop_rate': 0.9754676518035469, 'feature_fraction': 0.1004995968580088, 'learning_rate': 0.43803383148043296, 'subsample': 0.8948938528455712, 'num_leaves': 824, 'verbosity': 0, 'num_boost_round': 9726, 'min_data_in_leaf': 53645, 'min_child_samples': 232, 'min_child_weight': 462}.\n"
     ]
    },
    {
     "name": "stdout",
     "output_type": "stream",
     "text": [
      "Training until validation scores don't improve for 100 rounds.\n",
      "Early stopping, best iteration is:\n",
      "[1]\ttraining's auc: 0.5\tvalid_1's auc: 0.5\n",
      "0.5921787709497207\n"
     ]
    },
    {
     "name": "stderr",
     "output_type": "stream",
     "text": [
      "[I 2020-02-13 03:46:07,173] Finished trial#17 resulted in value: 0.5921787709497207. Current best value is 0.5921787709497207 with parameters: {'drop_rate': 0.9754676518035469, 'feature_fraction': 0.1004995968580088, 'learning_rate': 0.43803383148043296, 'subsample': 0.8948938528455712, 'num_leaves': 824, 'verbosity': 0, 'num_boost_round': 9726, 'min_data_in_leaf': 53645, 'min_child_samples': 232, 'min_child_weight': 462}.\n"
     ]
    },
    {
     "name": "stdout",
     "output_type": "stream",
     "text": [
      "Training until validation scores don't improve for 100 rounds.\n",
      "Early stopping, best iteration is:\n",
      "[1]\ttraining's auc: 0.5\tvalid_1's auc: 0.5\n",
      "0.5921787709497207\n"
     ]
    },
    {
     "name": "stderr",
     "output_type": "stream",
     "text": [
      "[I 2020-02-13 03:46:07,296] Finished trial#18 resulted in value: 0.5921787709497207. Current best value is 0.5921787709497207 with parameters: {'drop_rate': 0.9754676518035469, 'feature_fraction': 0.1004995968580088, 'learning_rate': 0.43803383148043296, 'subsample': 0.8948938528455712, 'num_leaves': 824, 'verbosity': 0, 'num_boost_round': 9726, 'min_data_in_leaf': 53645, 'min_child_samples': 232, 'min_child_weight': 462}.\n"
     ]
    },
    {
     "name": "stdout",
     "output_type": "stream",
     "text": [
      "Training until validation scores don't improve for 100 rounds.\n",
      "Early stopping, best iteration is:\n",
      "[1]\ttraining's auc: 0.5\tvalid_1's auc: 0.5\n",
      "0.5921787709497207\n"
     ]
    },
    {
     "name": "stderr",
     "output_type": "stream",
     "text": [
      "[I 2020-02-13 03:46:07,425] Finished trial#19 resulted in value: 0.5921787709497207. Current best value is 0.5921787709497207 with parameters: {'drop_rate': 0.9754676518035469, 'feature_fraction': 0.1004995968580088, 'learning_rate': 0.43803383148043296, 'subsample': 0.8948938528455712, 'num_leaves': 824, 'verbosity': 0, 'num_boost_round': 9726, 'min_data_in_leaf': 53645, 'min_child_samples': 232, 'min_child_weight': 462}.\n"
     ]
    },
    {
     "name": "stdout",
     "output_type": "stream",
     "text": [
      "Training until validation scores don't improve for 100 rounds.\n",
      "Early stopping, best iteration is:\n",
      "[1]\ttraining's auc: 0.5\tvalid_1's auc: 0.5\n",
      "0.5921787709497207\n"
     ]
    },
    {
     "name": "stderr",
     "output_type": "stream",
     "text": [
      "[I 2020-02-13 03:46:07,559] Finished trial#20 resulted in value: 0.5921787709497207. Current best value is 0.5921787709497207 with parameters: {'drop_rate': 0.9754676518035469, 'feature_fraction': 0.1004995968580088, 'learning_rate': 0.43803383148043296, 'subsample': 0.8948938528455712, 'num_leaves': 824, 'verbosity': 0, 'num_boost_round': 9726, 'min_data_in_leaf': 53645, 'min_child_samples': 232, 'min_child_weight': 462}.\n"
     ]
    },
    {
     "name": "stdout",
     "output_type": "stream",
     "text": [
      "Training until validation scores don't improve for 100 rounds.\n",
      "Early stopping, best iteration is:\n",
      "[1]\ttraining's auc: 0.5\tvalid_1's auc: 0.5\n",
      "0.5921787709497207\n"
     ]
    },
    {
     "name": "stderr",
     "output_type": "stream",
     "text": [
      "[I 2020-02-13 03:46:07,683] Finished trial#21 resulted in value: 0.5921787709497207. Current best value is 0.5921787709497207 with parameters: {'drop_rate': 0.9754676518035469, 'feature_fraction': 0.1004995968580088, 'learning_rate': 0.43803383148043296, 'subsample': 0.8948938528455712, 'num_leaves': 824, 'verbosity': 0, 'num_boost_round': 9726, 'min_data_in_leaf': 53645, 'min_child_samples': 232, 'min_child_weight': 462}.\n"
     ]
    },
    {
     "name": "stdout",
     "output_type": "stream",
     "text": [
      "Training until validation scores don't improve for 100 rounds.\n",
      "Early stopping, best iteration is:\n",
      "[1]\ttraining's auc: 0.5\tvalid_1's auc: 0.5\n",
      "0.5921787709497207\n"
     ]
    },
    {
     "name": "stderr",
     "output_type": "stream",
     "text": [
      "[I 2020-02-13 03:46:07,813] Finished trial#22 resulted in value: 0.5921787709497207. Current best value is 0.5921787709497207 with parameters: {'drop_rate': 0.9754676518035469, 'feature_fraction': 0.1004995968580088, 'learning_rate': 0.43803383148043296, 'subsample': 0.8948938528455712, 'num_leaves': 824, 'verbosity': 0, 'num_boost_round': 9726, 'min_data_in_leaf': 53645, 'min_child_samples': 232, 'min_child_weight': 462}.\n"
     ]
    },
    {
     "name": "stdout",
     "output_type": "stream",
     "text": [
      "Training until validation scores don't improve for 100 rounds.\n",
      "Early stopping, best iteration is:\n",
      "[1]\ttraining's auc: 0.5\tvalid_1's auc: 0.5\n",
      "0.5921787709497207\n"
     ]
    },
    {
     "name": "stderr",
     "output_type": "stream",
     "text": [
      "[I 2020-02-13 03:46:07,954] Finished trial#23 resulted in value: 0.5921787709497207. Current best value is 0.5921787709497207 with parameters: {'drop_rate': 0.9754676518035469, 'feature_fraction': 0.1004995968580088, 'learning_rate': 0.43803383148043296, 'subsample': 0.8948938528455712, 'num_leaves': 824, 'verbosity': 0, 'num_boost_round': 9726, 'min_data_in_leaf': 53645, 'min_child_samples': 232, 'min_child_weight': 462}.\n"
     ]
    },
    {
     "name": "stdout",
     "output_type": "stream",
     "text": [
      "Training until validation scores don't improve for 100 rounds.\n",
      "Early stopping, best iteration is:\n",
      "[1]\ttraining's auc: 0.5\tvalid_1's auc: 0.5\n",
      "0.5921787709497207\n"
     ]
    },
    {
     "name": "stderr",
     "output_type": "stream",
     "text": [
      "[I 2020-02-13 03:46:08,080] Finished trial#24 resulted in value: 0.5921787709497207. Current best value is 0.5921787709497207 with parameters: {'drop_rate': 0.9754676518035469, 'feature_fraction': 0.1004995968580088, 'learning_rate': 0.43803383148043296, 'subsample': 0.8948938528455712, 'num_leaves': 824, 'verbosity': 0, 'num_boost_round': 9726, 'min_data_in_leaf': 53645, 'min_child_samples': 232, 'min_child_weight': 462}.\n"
     ]
    },
    {
     "name": "stdout",
     "output_type": "stream",
     "text": [
      "Training until validation scores don't improve for 100 rounds.\n",
      "Early stopping, best iteration is:\n",
      "[1]\ttraining's auc: 0.5\tvalid_1's auc: 0.5\n",
      "0.5921787709497207\n"
     ]
    },
    {
     "name": "stderr",
     "output_type": "stream",
     "text": [
      "[I 2020-02-13 03:46:08,214] Finished trial#25 resulted in value: 0.5921787709497207. Current best value is 0.5921787709497207 with parameters: {'drop_rate': 0.9754676518035469, 'feature_fraction': 0.1004995968580088, 'learning_rate': 0.43803383148043296, 'subsample': 0.8948938528455712, 'num_leaves': 824, 'verbosity': 0, 'num_boost_round': 9726, 'min_data_in_leaf': 53645, 'min_child_samples': 232, 'min_child_weight': 462}.\n"
     ]
    },
    {
     "name": "stdout",
     "output_type": "stream",
     "text": [
      "Training until validation scores don't improve for 100 rounds.\n",
      "Early stopping, best iteration is:\n",
      "[1]\ttraining's auc: 0.5\tvalid_1's auc: 0.5\n",
      "0.5921787709497207\n"
     ]
    },
    {
     "name": "stderr",
     "output_type": "stream",
     "text": [
      "[I 2020-02-13 03:46:08,346] Finished trial#26 resulted in value: 0.5921787709497207. Current best value is 0.5921787709497207 with parameters: {'drop_rate': 0.9754676518035469, 'feature_fraction': 0.1004995968580088, 'learning_rate': 0.43803383148043296, 'subsample': 0.8948938528455712, 'num_leaves': 824, 'verbosity': 0, 'num_boost_round': 9726, 'min_data_in_leaf': 53645, 'min_child_samples': 232, 'min_child_weight': 462}.\n"
     ]
    },
    {
     "name": "stdout",
     "output_type": "stream",
     "text": [
      "Training until validation scores don't improve for 100 rounds.\n",
      "Early stopping, best iteration is:\n",
      "[1]\ttraining's auc: 0.5\tvalid_1's auc: 0.5\n",
      "0.5921787709497207\n"
     ]
    },
    {
     "name": "stderr",
     "output_type": "stream",
     "text": [
      "[I 2020-02-13 03:46:08,470] Finished trial#27 resulted in value: 0.5921787709497207. Current best value is 0.5921787709497207 with parameters: {'drop_rate': 0.9754676518035469, 'feature_fraction': 0.1004995968580088, 'learning_rate': 0.43803383148043296, 'subsample': 0.8948938528455712, 'num_leaves': 824, 'verbosity': 0, 'num_boost_round': 9726, 'min_data_in_leaf': 53645, 'min_child_samples': 232, 'min_child_weight': 462}.\n"
     ]
    },
    {
     "name": "stdout",
     "output_type": "stream",
     "text": [
      "Training until validation scores don't improve for 100 rounds.\n",
      "Early stopping, best iteration is:\n",
      "[1]\ttraining's auc: 0.5\tvalid_1's auc: 0.5\n",
      "0.5921787709497207\n"
     ]
    },
    {
     "name": "stderr",
     "output_type": "stream",
     "text": [
      "[I 2020-02-13 03:46:08,607] Finished trial#28 resulted in value: 0.5921787709497207. Current best value is 0.5921787709497207 with parameters: {'drop_rate': 0.9754676518035469, 'feature_fraction': 0.1004995968580088, 'learning_rate': 0.43803383148043296, 'subsample': 0.8948938528455712, 'num_leaves': 824, 'verbosity': 0, 'num_boost_round': 9726, 'min_data_in_leaf': 53645, 'min_child_samples': 232, 'min_child_weight': 462}.\n"
     ]
    },
    {
     "name": "stdout",
     "output_type": "stream",
     "text": [
      "Training until validation scores don't improve for 100 rounds.\n",
      "Early stopping, best iteration is:\n",
      "[1]\ttraining's auc: 0.5\tvalid_1's auc: 0.5\n",
      "0.5921787709497207\n"
     ]
    },
    {
     "name": "stderr",
     "output_type": "stream",
     "text": [
      "[I 2020-02-13 03:46:08,755] Finished trial#29 resulted in value: 0.5921787709497207. Current best value is 0.5921787709497207 with parameters: {'drop_rate': 0.9754676518035469, 'feature_fraction': 0.1004995968580088, 'learning_rate': 0.43803383148043296, 'subsample': 0.8948938528455712, 'num_leaves': 824, 'verbosity': 0, 'num_boost_round': 9726, 'min_data_in_leaf': 53645, 'min_child_samples': 232, 'min_child_weight': 462}.\n"
     ]
    },
    {
     "name": "stdout",
     "output_type": "stream",
     "text": [
      "最終トライアル回数: 30\n",
      "ベストトライアル:\n",
      "値: 0.5921787709497207\n",
      "パラメータ:\n",
      "drop_rate: 0.9754676518035469\n",
      "feature_fraction: 0.1004995968580088\n",
      "learning_rate: 0.43803383148043296\n",
      "subsample: 0.8948938528455712\n",
      "num_leaves: 824\n",
      "verbosity: 0\n",
      "num_boost_round: 9726\n",
      "min_data_in_leaf: 53645\n",
      "min_child_samples: 232\n",
      "min_child_weight: 462\n"
     ]
    }
   ],
   "source": [
    "# optunaで最適化のために一連の処理を関数化\n",
    "def objectives(trial):\n",
    "    drop_rate = trial.suggest_uniform('drop_rate', 0, 1.0)\n",
    "    feature_fraction = trial.suggest_uniform('feature_fraction', 0, 1.0)\n",
    "    learning_rate = trial.suggest_uniform('learning_rate', 0, 1.0)\n",
    "    subsample = trial.suggest_uniform('subsample', 0.8, 1.0)\n",
    "    num_leaves = trial.suggest_int('num_leaves', 5, 1000)\n",
    "    verbosity = trial.suggest_int('verbosity', -1, 1)\n",
    "    num_boost_round = trial.suggest_int('num_boost_round', 10, 100000)\n",
    "    min_data_in_leaf = trial.suggest_int('min_data_in_leaf', 10, 100000)\n",
    "    min_child_samples = trial.suggest_int('min_child_samples', 5, 500)\n",
    "    min_child_weight = trial.suggest_int('min_child_weight', 5, 500)\n",
    "\n",
    "    params = {\"objective\": \"binary\",\n",
    "              \"boosting_type\": \"gbdt\",\n",
    "              \"learning_rate\": learning_rate,\n",
    "              \"num_leaves\": num_leaves,\n",
    "              \"max_bin\": 256,\n",
    "              \"feature_fraction\": feature_fraction,\n",
    "              \"verbosity\": verbosity,\n",
    "              \"drop_rate\": drop_rate,\n",
    "              \"is_unbalance\": False,\n",
    "              \"max_drop\": 50,\n",
    "              \"min_child_samples\": min_child_samples,\n",
    "              \"min_child_weight\": min_child_weight,\n",
    "              \"min_split_gain\": 0,\n",
    "              \"min_data_in_leaf\": min_data_in_leaf,\n",
    "              \"subsample\": subsample,\n",
    "              \"metric\": \"auc\"\n",
    "              }\n",
    "    \n",
    "    X_train, X_val, y_train, y_val = train_test_split(X, y, test_size=0.2, random_state=1)\n",
    "    \n",
    "    dtrain = lgb.Dataset(X_train, label=y_train)\n",
    "    dval = lgb.Dataset(X_val, label=y_val)\n",
    "    \n",
    "    clf = lgb.train(params, \n",
    "                    dtrain,\n",
    "                    1000, \n",
    "                    valid_sets = [dtrain, dval], \n",
    "                    verbose_eval=200, \n",
    "                    early_stopping_rounds=100)\n",
    "    \n",
    "    y_pred_val = clf.predict(X_val)\n",
    "    y_pred_val = (y_pred_val > 0.5).astype(int)\n",
    "    score = accuracy_score(y_pred_val, y_val)\n",
    "    print(score)\n",
    "    return score\n",
    "\n",
    "# optunaによる最適化呼び出し\n",
    "opt = optuna.create_study(direction='maximize')# scoreの最大化を目指す。最小化の場合はminimize\n",
    "opt.optimize(objectives, n_trials=30)\n",
    "# 実行結果表示\n",
    "print('最終トライアル回数: {}'.format(len(opt.trials)))\n",
    "print('ベストトライアル:')\n",
    "trial = opt.best_trial\n",
    "print('値: {}'.format(trial.value))\n",
    "print('パラメータ:')\n",
    "for key, value in trial.params.items():\n",
    "    print('{}: {}'.format(key, value))"
   ]
  },
  {
   "cell_type": "code",
   "execution_count": 44,
   "metadata": {},
   "outputs": [
    {
     "data": {
      "text/plain": [
       "{'drop_rate': 0.9754676518035469,\n",
       " 'feature_fraction': 0.1004995968580088,\n",
       " 'learning_rate': 0.43803383148043296,\n",
       " 'subsample': 0.8948938528455712,\n",
       " 'num_leaves': 824,\n",
       " 'verbosity': 0,\n",
       " 'num_boost_round': 9726,\n",
       " 'min_data_in_leaf': 53645,\n",
       " 'min_child_samples': 232,\n",
       " 'min_child_weight': 462}"
      ]
     },
     "execution_count": 44,
     "metadata": {},
     "output_type": "execute_result"
    }
   ],
   "source": [
    "trial.params"
   ]
  },
  {
   "cell_type": "code",
   "execution_count": 45,
   "metadata": {},
   "outputs": [],
   "source": [
    "params = {'drop_rate': 0.8128936953440956,\n",
    "          'feature_fraction': 0.48426736268694337,\n",
    "          'learning_rate': 0.3355716162961806,\n",
    "          'subsample': 0.8786519586713651,\n",
    "          'num_leaves': 387,\n",
    "          'verbosity': 0,\n",
    "          'num_boost_round': 34035,\n",
    "          'min_data_in_leaf': 34715,\n",
    "          'min_child_samples': 278,\n",
    "          'min_child_weight': 106,\n",
    "          'objective': \"binary\",\n",
    "          'boosting_type': \"gbdt\",\n",
    "          'max_bin': 256,\n",
    "          'metric': \"auc\"\n",
    "         }"
   ]
  },
  {
   "cell_type": "code",
   "execution_count": 46,
   "metadata": {},
   "outputs": [
    {
     "name": "stderr",
     "output_type": "stream",
     "text": [
      "/Users/betashort/opt/anaconda3/envs/default/lib/python3.7/site-packages/lightgbm/engine.py:118: UserWarning: Found `num_boost_round` in params. Will use it instead of argument\n",
      "  warnings.warn(\"Found `{}` in params. Will use it instead of argument\".format(alias))\n"
     ]
    },
    {
     "name": "stdout",
     "output_type": "stream",
     "text": [
      "Training until validation scores don't improve for 100 rounds.\n",
      "Early stopping, best iteration is:\n",
      "[1]\ttraining's auc: 0.5\tvalid_1's auc: 0.5\n",
      "Fold 1 | AUC: 0.5\n"
     ]
    },
    {
     "name": "stderr",
     "output_type": "stream",
     "text": [
      "/Users/betashort/opt/anaconda3/envs/default/lib/python3.7/site-packages/lightgbm/engine.py:118: UserWarning: Found `num_boost_round` in params. Will use it instead of argument\n",
      "  warnings.warn(\"Found `{}` in params. Will use it instead of argument\".format(alias))\n"
     ]
    },
    {
     "name": "stdout",
     "output_type": "stream",
     "text": [
      "Training until validation scores don't improve for 100 rounds.\n",
      "Early stopping, best iteration is:\n",
      "[1]\ttraining's auc: 0.5\tvalid_1's auc: 0.5\n",
      "Fold 2 | AUC: 0.5\n"
     ]
    },
    {
     "name": "stderr",
     "output_type": "stream",
     "text": [
      "/Users/betashort/opt/anaconda3/envs/default/lib/python3.7/site-packages/lightgbm/engine.py:118: UserWarning: Found `num_boost_round` in params. Will use it instead of argument\n",
      "  warnings.warn(\"Found `{}` in params. Will use it instead of argument\".format(alias))\n"
     ]
    },
    {
     "name": "stdout",
     "output_type": "stream",
     "text": [
      "Training until validation scores don't improve for 100 rounds.\n",
      "Early stopping, best iteration is:\n",
      "[1]\ttraining's auc: 0.5\tvalid_1's auc: 0.5\n",
      "Fold 3 | AUC: 0.5\n"
     ]
    },
    {
     "name": "stderr",
     "output_type": "stream",
     "text": [
      "/Users/betashort/opt/anaconda3/envs/default/lib/python3.7/site-packages/lightgbm/engine.py:118: UserWarning: Found `num_boost_round` in params. Will use it instead of argument\n",
      "  warnings.warn(\"Found `{}` in params. Will use it instead of argument\".format(alias))\n"
     ]
    },
    {
     "name": "stdout",
     "output_type": "stream",
     "text": [
      "Training until validation scores don't improve for 100 rounds.\n",
      "Early stopping, best iteration is:\n",
      "[1]\ttraining's auc: 0.5\tvalid_1's auc: 0.5\n",
      "Fold 4 | AUC: 0.5\n"
     ]
    },
    {
     "name": "stderr",
     "output_type": "stream",
     "text": [
      "/Users/betashort/opt/anaconda3/envs/default/lib/python3.7/site-packages/lightgbm/engine.py:118: UserWarning: Found `num_boost_round` in params. Will use it instead of argument\n",
      "  warnings.warn(\"Found `{}` in params. Will use it instead of argument\".format(alias))\n"
     ]
    },
    {
     "name": "stdout",
     "output_type": "stream",
     "text": [
      "Training until validation scores don't improve for 100 rounds.\n",
      "Early stopping, best iteration is:\n",
      "[1]\ttraining's auc: 0.5\tvalid_1's auc: 0.5\n",
      "Fold 5 | AUC: 0.5\n",
      "\n",
      "Mean AUC = 0.5\n"
     ]
    }
   ],
   "source": [
    "results = oof(X, y, test, params)\n",
    "print(f\"\\nMean AUC = {results['score']}\")"
   ]
  },
  {
   "cell_type": "code",
   "execution_count": 21,
   "metadata": {},
   "outputs": [],
   "source": [
    "def oof(X, y, test, params, NFOLDS = 5):\n",
    "    \n",
    "    columns = X.columns\n",
    "    \n",
    "    folds = KFold(n_splits=NFOLDS)\n",
    "    splits = folds.split(X, y)\n",
    "    \n",
    "    y_preds = np.zeros(test.shape[0])\n",
    "    y_oof = np.zeros(X.shape[0])\n",
    "    score = 0\n",
    "    feature_importances = pd.DataFrame()\n",
    "    feature_importances['feature'] = columns\n",
    "    \n",
    "    for fold_n, (train_index, valid_index) in enumerate(splits):\n",
    "        X_train, X_valid = X[columns].iloc[train_index], X[columns].iloc[valid_index]\n",
    "        y_train, y_valid = y.iloc[train_index], y.iloc[valid_index]\n",
    "        \n",
    "        dtrain = lgb.Dataset(X_train, label=y_train)\n",
    "        dvalid = lgb.Dataset(X_valid, label=y_valid)\n",
    "        \n",
    "        clf = lgb.train(params, \n",
    "                        dtrain, \n",
    "                        1000, \n",
    "                        valid_sets = [dtrain, dvalid], \n",
    "                        verbose_eval=200, \n",
    "                        early_stopping_rounds=100)\n",
    "        \n",
    "        #===== feature importances =====\n",
    "        feature_importances[f'fold_{fold_n + 1}'] = clf.feature_importance()\n",
    "        \n",
    "        #===== out-of-fold =====\n",
    "        y_pred_valid = clf.predict(X_valid)\n",
    "        y_oof[valid_index] = y_pred_valid\n",
    "        \n",
    "        #===== score =====\n",
    "        score += roc_auc_score(y_valid, y_pred_valid) / NFOLDS\n",
    "        \n",
    "        #===== test =====\n",
    "        y_preds += clf.predict(test) / NFOLDS\n",
    "        \n",
    "        print(f\"Fold {fold_n + 1} | AUC: {roc_auc_score(y_valid, y_pred_valid)}\")\n",
    "        \n",
    "        del X_train, X_valid, y_train, y_valid\n",
    "        gc.collect()\n",
    "    \n",
    "    return {'y_oof': y_oof,\n",
    "            'y_preds': y_preds,\n",
    "            'score': score, \n",
    "            'feature_importances': feature_importances}"
   ]
  },
  {
   "cell_type": "code",
   "execution_count": null,
   "metadata": {},
   "outputs": [],
   "source": []
  }
 ],
 "metadata": {
  "kernelspec": {
   "display_name": "Python 3",
   "language": "python",
   "name": "python3"
  },
  "language_info": {
   "codemirror_mode": {
    "name": "ipython",
    "version": 3
   },
   "file_extension": ".py",
   "mimetype": "text/x-python",
   "name": "python",
   "nbconvert_exporter": "python",
   "pygments_lexer": "ipython3",
   "version": "3.7.5"
  }
 },
 "nbformat": 4,
 "nbformat_minor": 2
}
